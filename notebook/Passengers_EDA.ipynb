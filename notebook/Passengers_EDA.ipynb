{
 "cells": [
  {
   "cell_type": "markdown",
   "id": "73ee0ca1",
   "metadata": {},
   "source": [
    "# US International passengers analysis"
   ]
  },
  {
   "cell_type": "markdown",
   "id": "3ae22c78",
   "metadata": {},
   "source": [
    "In this notebook it is going to analyze International report passengers to figure it out how many flight by period have operated by airlines\n",
    "\n",
    "Conclusion:\n",
    "* We have 30 completed years of data\n",
    "* We can group data into period to analyze\n",
    "* We could get a forecast for 2020 to predict how many passangers would be in 2020\n",
    "* Only 8.25% of airlines operates 80 percents of flight in 30 years\n",
    "* We can group data by periods to get the total's flight \n",
    "\n",
    "Next Steps:\n",
    "* Create a train model code to test arima vs exponential smoothing"
   ]
  },
  {
   "cell_type": "markdown",
   "id": "d409b2d9",
   "metadata": {},
   "source": [
    "# Libraries"
   ]
  },
  {
   "cell_type": "code",
   "execution_count": 1,
   "id": "821a252b",
   "metadata": {},
   "outputs": [],
   "source": [
    "import pandas as pd\n",
    "from pmdarima import auto_arima\n",
    "from matplotlib import pyplot as plt\n",
    "from sklearn.metrics import r2_score\n",
    "\n",
    "from matplotlib import pyplot\n",
    "from statsmodels.tsa.seasonal import seasonal_decompose\n"
   ]
  },
  {
   "cell_type": "markdown",
   "id": "2d679120",
   "metadata": {},
   "source": [
    "# Data"
   ]
  },
  {
   "cell_type": "code",
   "execution_count": 2,
   "id": "1e27d8e1",
   "metadata": {},
   "outputs": [],
   "source": [
    "data = pd.read_csv('../rootstrap/data/International_Report_Passengers.csv',\n",
    "                   date_parser=True,\n",
    "                   infer_datetime_format='mm/dd/yyyy',)"
   ]
  },
  {
   "cell_type": "code",
   "execution_count": 3,
   "id": "64680559",
   "metadata": {},
   "outputs": [
    {
     "data": {
      "text/html": [
       "<div>\n",
       "<style scoped>\n",
       "    .dataframe tbody tr th:only-of-type {\n",
       "        vertical-align: middle;\n",
       "    }\n",
       "\n",
       "    .dataframe tbody tr th {\n",
       "        vertical-align: top;\n",
       "    }\n",
       "\n",
       "    .dataframe thead th {\n",
       "        text-align: right;\n",
       "    }\n",
       "</style>\n",
       "<table border=\"1\" class=\"dataframe\">\n",
       "  <thead>\n",
       "    <tr style=\"text-align: right;\">\n",
       "      <th></th>\n",
       "      <th>data_dte</th>\n",
       "      <th>Year</th>\n",
       "      <th>Month</th>\n",
       "      <th>usg_apt_id</th>\n",
       "      <th>usg_apt</th>\n",
       "      <th>usg_wac</th>\n",
       "      <th>fg_apt_id</th>\n",
       "      <th>fg_apt</th>\n",
       "      <th>fg_wac</th>\n",
       "      <th>airlineid</th>\n",
       "      <th>carrier</th>\n",
       "      <th>carriergroup</th>\n",
       "      <th>type</th>\n",
       "      <th>Scheduled</th>\n",
       "      <th>Charter</th>\n",
       "      <th>Total</th>\n",
       "    </tr>\n",
       "  </thead>\n",
       "  <tbody>\n",
       "    <tr>\n",
       "      <th>0</th>\n",
       "      <td>05/01/2014</td>\n",
       "      <td>2014</td>\n",
       "      <td>5</td>\n",
       "      <td>14492</td>\n",
       "      <td>RDU</td>\n",
       "      <td>36</td>\n",
       "      <td>11032</td>\n",
       "      <td>CUN</td>\n",
       "      <td>148</td>\n",
       "      <td>19534</td>\n",
       "      <td>AM</td>\n",
       "      <td>0</td>\n",
       "      <td>Passengers</td>\n",
       "      <td>0</td>\n",
       "      <td>315</td>\n",
       "      <td>315</td>\n",
       "    </tr>\n",
       "    <tr>\n",
       "      <th>1</th>\n",
       "      <td>06/01/2007</td>\n",
       "      <td>2007</td>\n",
       "      <td>6</td>\n",
       "      <td>13204</td>\n",
       "      <td>MCO</td>\n",
       "      <td>33</td>\n",
       "      <td>16085</td>\n",
       "      <td>YHZ</td>\n",
       "      <td>951</td>\n",
       "      <td>20364</td>\n",
       "      <td>C6</td>\n",
       "      <td>0</td>\n",
       "      <td>Passengers</td>\n",
       "      <td>0</td>\n",
       "      <td>683</td>\n",
       "      <td>683</td>\n",
       "    </tr>\n",
       "    <tr>\n",
       "      <th>2</th>\n",
       "      <td>12/01/2005</td>\n",
       "      <td>2005</td>\n",
       "      <td>12</td>\n",
       "      <td>11433</td>\n",
       "      <td>DTW</td>\n",
       "      <td>43</td>\n",
       "      <td>10411</td>\n",
       "      <td>AUA</td>\n",
       "      <td>277</td>\n",
       "      <td>20344</td>\n",
       "      <td>RD</td>\n",
       "      <td>1</td>\n",
       "      <td>Passengers</td>\n",
       "      <td>0</td>\n",
       "      <td>1010</td>\n",
       "      <td>1010</td>\n",
       "    </tr>\n",
       "    <tr>\n",
       "      <th>3</th>\n",
       "      <td>04/01/2003</td>\n",
       "      <td>2003</td>\n",
       "      <td>4</td>\n",
       "      <td>13487</td>\n",
       "      <td>MSP</td>\n",
       "      <td>63</td>\n",
       "      <td>16304</td>\n",
       "      <td>ZIH</td>\n",
       "      <td>148</td>\n",
       "      <td>20204</td>\n",
       "      <td>MG</td>\n",
       "      <td>1</td>\n",
       "      <td>Passengers</td>\n",
       "      <td>0</td>\n",
       "      <td>508</td>\n",
       "      <td>508</td>\n",
       "    </tr>\n",
       "    <tr>\n",
       "      <th>4</th>\n",
       "      <td>12/01/2005</td>\n",
       "      <td>2005</td>\n",
       "      <td>12</td>\n",
       "      <td>12016</td>\n",
       "      <td>GUM</td>\n",
       "      <td>5</td>\n",
       "      <td>11138</td>\n",
       "      <td>CRK</td>\n",
       "      <td>766</td>\n",
       "      <td>20312</td>\n",
       "      <td>TZ</td>\n",
       "      <td>1</td>\n",
       "      <td>Passengers</td>\n",
       "      <td>0</td>\n",
       "      <td>76</td>\n",
       "      <td>76</td>\n",
       "    </tr>\n",
       "  </tbody>\n",
       "</table>\n",
       "</div>"
      ],
      "text/plain": [
       "     data_dte  Year  Month  usg_apt_id usg_apt  usg_wac  fg_apt_id fg_apt  \\\n",
       "0  05/01/2014  2014      5       14492     RDU       36      11032    CUN   \n",
       "1  06/01/2007  2007      6       13204     MCO       33      16085    YHZ   \n",
       "2  12/01/2005  2005     12       11433     DTW       43      10411    AUA   \n",
       "3  04/01/2003  2003      4       13487     MSP       63      16304    ZIH   \n",
       "4  12/01/2005  2005     12       12016     GUM        5      11138    CRK   \n",
       "\n",
       "   fg_wac  airlineid carrier  carriergroup        type  Scheduled  Charter  \\\n",
       "0     148      19534      AM             0  Passengers          0      315   \n",
       "1     951      20364      C6             0  Passengers          0      683   \n",
       "2     277      20344      RD             1  Passengers          0     1010   \n",
       "3     148      20204      MG             1  Passengers          0      508   \n",
       "4     766      20312      TZ             1  Passengers          0       76   \n",
       "\n",
       "   Total  \n",
       "0    315  \n",
       "1    683  \n",
       "2   1010  \n",
       "3    508  \n",
       "4     76  "
      ]
     },
     "execution_count": 3,
     "metadata": {},
     "output_type": "execute_result"
    }
   ],
   "source": [
    "data.head()"
   ]
  },
  {
   "cell_type": "code",
   "execution_count": 4,
   "id": "9c8fa6e9",
   "metadata": {},
   "outputs": [],
   "source": [
    "# Convert date to datetime\n",
    "data.data_dte = pd.to_datetime(data.data_dte)"
   ]
  },
  {
   "cell_type": "code",
   "execution_count": 5,
   "id": "d4475417",
   "metadata": {},
   "outputs": [
    {
     "name": "stdout",
     "output_type": "stream",
     "text": [
      "Min date is 1990-01-01 00:00:00 \n",
      "Max date is 2020-03-01 00:00:00\n",
      "We have 30 years of data\n"
     ]
    }
   ],
   "source": [
    "print(f'Min date is {data.data_dte.min()} \\nMax date is {data.data_dte.max()}\\nWe have {data.Year.max()-data.Year.min()} years of data')"
   ]
  },
  {
   "cell_type": "code",
   "execution_count": 6,
   "id": "c52eca96",
   "metadata": {},
   "outputs": [
    {
     "data": {
      "text/html": [
       "<div>\n",
       "<style scoped>\n",
       "    .dataframe tbody tr th:only-of-type {\n",
       "        vertical-align: middle;\n",
       "    }\n",
       "\n",
       "    .dataframe tbody tr th {\n",
       "        vertical-align: top;\n",
       "    }\n",
       "\n",
       "    .dataframe thead th {\n",
       "        text-align: right;\n",
       "    }\n",
       "</style>\n",
       "<table border=\"1\" class=\"dataframe\">\n",
       "  <thead>\n",
       "    <tr style=\"text-align: right;\">\n",
       "      <th></th>\n",
       "      <th>Month</th>\n",
       "    </tr>\n",
       "    <tr>\n",
       "      <th>Year</th>\n",
       "      <th></th>\n",
       "    </tr>\n",
       "  </thead>\n",
       "  <tbody>\n",
       "    <tr>\n",
       "      <th>1990</th>\n",
       "      <td>12</td>\n",
       "    </tr>\n",
       "    <tr>\n",
       "      <th>1991</th>\n",
       "      <td>12</td>\n",
       "    </tr>\n",
       "    <tr>\n",
       "      <th>1992</th>\n",
       "      <td>12</td>\n",
       "    </tr>\n",
       "    <tr>\n",
       "      <th>1993</th>\n",
       "      <td>12</td>\n",
       "    </tr>\n",
       "    <tr>\n",
       "      <th>1994</th>\n",
       "      <td>12</td>\n",
       "    </tr>\n",
       "    <tr>\n",
       "      <th>1995</th>\n",
       "      <td>12</td>\n",
       "    </tr>\n",
       "    <tr>\n",
       "      <th>1996</th>\n",
       "      <td>12</td>\n",
       "    </tr>\n",
       "    <tr>\n",
       "      <th>1997</th>\n",
       "      <td>12</td>\n",
       "    </tr>\n",
       "    <tr>\n",
       "      <th>1998</th>\n",
       "      <td>12</td>\n",
       "    </tr>\n",
       "    <tr>\n",
       "      <th>1999</th>\n",
       "      <td>12</td>\n",
       "    </tr>\n",
       "    <tr>\n",
       "      <th>2000</th>\n",
       "      <td>12</td>\n",
       "    </tr>\n",
       "    <tr>\n",
       "      <th>2001</th>\n",
       "      <td>12</td>\n",
       "    </tr>\n",
       "    <tr>\n",
       "      <th>2002</th>\n",
       "      <td>12</td>\n",
       "    </tr>\n",
       "    <tr>\n",
       "      <th>2003</th>\n",
       "      <td>12</td>\n",
       "    </tr>\n",
       "    <tr>\n",
       "      <th>2004</th>\n",
       "      <td>12</td>\n",
       "    </tr>\n",
       "    <tr>\n",
       "      <th>2005</th>\n",
       "      <td>12</td>\n",
       "    </tr>\n",
       "    <tr>\n",
       "      <th>2006</th>\n",
       "      <td>12</td>\n",
       "    </tr>\n",
       "    <tr>\n",
       "      <th>2007</th>\n",
       "      <td>12</td>\n",
       "    </tr>\n",
       "    <tr>\n",
       "      <th>2008</th>\n",
       "      <td>12</td>\n",
       "    </tr>\n",
       "    <tr>\n",
       "      <th>2009</th>\n",
       "      <td>12</td>\n",
       "    </tr>\n",
       "    <tr>\n",
       "      <th>2010</th>\n",
       "      <td>12</td>\n",
       "    </tr>\n",
       "    <tr>\n",
       "      <th>2011</th>\n",
       "      <td>12</td>\n",
       "    </tr>\n",
       "    <tr>\n",
       "      <th>2012</th>\n",
       "      <td>12</td>\n",
       "    </tr>\n",
       "    <tr>\n",
       "      <th>2013</th>\n",
       "      <td>12</td>\n",
       "    </tr>\n",
       "    <tr>\n",
       "      <th>2014</th>\n",
       "      <td>12</td>\n",
       "    </tr>\n",
       "    <tr>\n",
       "      <th>2015</th>\n",
       "      <td>12</td>\n",
       "    </tr>\n",
       "    <tr>\n",
       "      <th>2016</th>\n",
       "      <td>12</td>\n",
       "    </tr>\n",
       "    <tr>\n",
       "      <th>2017</th>\n",
       "      <td>12</td>\n",
       "    </tr>\n",
       "    <tr>\n",
       "      <th>2018</th>\n",
       "      <td>12</td>\n",
       "    </tr>\n",
       "    <tr>\n",
       "      <th>2019</th>\n",
       "      <td>12</td>\n",
       "    </tr>\n",
       "  </tbody>\n",
       "</table>\n",
       "</div>"
      ],
      "text/plain": [
       "      Month\n",
       "Year       \n",
       "1990     12\n",
       "1991     12\n",
       "1992     12\n",
       "1993     12\n",
       "1994     12\n",
       "1995     12\n",
       "1996     12\n",
       "1997     12\n",
       "1998     12\n",
       "1999     12\n",
       "2000     12\n",
       "2001     12\n",
       "2002     12\n",
       "2003     12\n",
       "2004     12\n",
       "2005     12\n",
       "2006     12\n",
       "2007     12\n",
       "2008     12\n",
       "2009     12\n",
       "2010     12\n",
       "2011     12\n",
       "2012     12\n",
       "2013     12\n",
       "2014     12\n",
       "2015     12\n",
       "2016     12\n",
       "2017     12\n",
       "2018     12\n",
       "2019     12"
      ]
     },
     "execution_count": 6,
     "metadata": {},
     "output_type": "execute_result"
    }
   ],
   "source": [
    "## Checking how many completed perdiod do I have\n",
    "data[['Year','Month']].drop_duplicates().sort_values(['Year','Month']).groupby('Year').count().loc[lambda x: x.Month==12]"
   ]
  },
  {
   "cell_type": "markdown",
   "id": "2cbaf3b8",
   "metadata": {},
   "source": [
    "**Here are 30 completed years, and in the last year (2020) there are only three months**"
   ]
  },
  {
   "cell_type": "markdown",
   "id": "215e032f",
   "metadata": {},
   "source": [
    "## Analyzing total flights per year"
   ]
  },
  {
   "cell_type": "code",
   "execution_count": 7,
   "id": "e15260b3",
   "metadata": {},
   "outputs": [
    {
     "data": {
      "text/plain": [
       "<AxesSubplot: xlabel='Year'>"
      ]
     },
     "execution_count": 7,
     "metadata": {},
     "output_type": "execute_result"
    },
    {
     "data": {
      "image/png": "[encoded data removed]",
      "text/plain": [
       "<Figure size 640x480 with 1 Axes>"
      ]
     },
     "metadata": {},
     "output_type": "display_data"
    }
   ],
   "source": [
    "data.groupby('Year').Total.sum().sort_index().plot(kind='bar')"
   ]
  },
  {
   "cell_type": "markdown",
   "id": "ae203aed",
   "metadata": {},
   "source": [
    "**There are an increment in flights since 1990 to 2019, we could expect that 2020 have more flights than previous year**"
   ]
  },
  {
   "cell_type": "markdown",
   "id": "c61679ae",
   "metadata": {},
   "source": [
    "### Analyzing data per period"
   ]
  },
  {
   "cell_type": "code",
   "execution_count": 8,
   "id": "af678416",
   "metadata": {},
   "outputs": [],
   "source": [
    "# creation of period's column\n",
    "data['period'] = data.data_dte.dt.to_period('M')"
   ]
  },
  {
   "cell_type": "code",
   "execution_count": 9,
   "id": "a44b3033",
   "metadata": {},
   "outputs": [],
   "source": [
    "# Defining new dataframe\n",
    "time_series = data.groupby('period').Total.sum()"
   ]
  },
  {
   "cell_type": "code",
   "execution_count": 10,
   "id": "3a26400a",
   "metadata": {},
   "outputs": [
    {
     "data": {
      "text/plain": [
       "<AxesSubplot: xlabel='period'>"
      ]
     },
     "execution_count": 10,
     "metadata": {},
     "output_type": "execute_result"
    },
    {
     "data": {
      "image/png": "[encoded data removed]",
      "text/plain": [
       "<Figure size 640x480 with 1 Axes>"
      ]
     },
     "metadata": {},
     "output_type": "display_data"
    }
   ],
   "source": [
    "time_series.plot(kind='line')"
   ]
  },
  {
   "cell_type": "code",
   "execution_count": 11,
   "id": "e08a01cd",
   "metadata": {},
   "outputs": [
    {
     "data": {
      "text/plain": [
       "period\n",
       "1990-01     6271648\n",
       "1990-02     5608228\n",
       "1990-03     7261485\n",
       "1990-04     6666438\n",
       "1990-05     6684581\n",
       "             ...   \n",
       "2019-11    17793847\n",
       "2019-12    19887403\n",
       "2020-01    19044076\n",
       "2020-02    15875722\n",
       "2020-03     9032188\n",
       "Freq: M, Name: Total, Length: 363, dtype: int64"
      ]
     },
     "execution_count": 11,
     "metadata": {},
     "output_type": "execute_result"
    }
   ],
   "source": [
    "time_series"
   ]
  },
  {
   "cell_type": "code",
   "execution_count": 12,
   "id": "6081c23f",
   "metadata": {},
   "outputs": [
    {
     "data": {
      "text/html": [
       "<div>\n",
       "<style scoped>\n",
       "    .dataframe tbody tr th:only-of-type {\n",
       "        vertical-align: middle;\n",
       "    }\n",
       "\n",
       "    .dataframe tbody tr th {\n",
       "        vertical-align: top;\n",
       "    }\n",
       "\n",
       "    .dataframe thead th {\n",
       "        text-align: right;\n",
       "    }\n",
       "</style>\n",
       "<table border=\"1\" class=\"dataframe\">\n",
       "  <thead>\n",
       "    <tr style=\"text-align: right;\">\n",
       "      <th></th>\n",
       "      <th>Total</th>\n",
       "    </tr>\n",
       "    <tr>\n",
       "      <th>period</th>\n",
       "      <th></th>\n",
       "    </tr>\n",
       "  </thead>\n",
       "  <tbody>\n",
       "    <tr>\n",
       "      <th>1990-01</th>\n",
       "      <td>6271648</td>\n",
       "    </tr>\n",
       "    <tr>\n",
       "      <th>1990-02</th>\n",
       "      <td>5608228</td>\n",
       "    </tr>\n",
       "    <tr>\n",
       "      <th>1990-03</th>\n",
       "      <td>7261485</td>\n",
       "    </tr>\n",
       "    <tr>\n",
       "      <th>1990-04</th>\n",
       "      <td>6666438</td>\n",
       "    </tr>\n",
       "    <tr>\n",
       "      <th>1990-05</th>\n",
       "      <td>6684581</td>\n",
       "    </tr>\n",
       "    <tr>\n",
       "      <th>...</th>\n",
       "      <td>...</td>\n",
       "    </tr>\n",
       "    <tr>\n",
       "      <th>2019-11</th>\n",
       "      <td>17793847</td>\n",
       "    </tr>\n",
       "    <tr>\n",
       "      <th>2019-12</th>\n",
       "      <td>19887403</td>\n",
       "    </tr>\n",
       "    <tr>\n",
       "      <th>2020-01</th>\n",
       "      <td>19044076</td>\n",
       "    </tr>\n",
       "    <tr>\n",
       "      <th>2020-02</th>\n",
       "      <td>15875722</td>\n",
       "    </tr>\n",
       "    <tr>\n",
       "      <th>2020-03</th>\n",
       "      <td>9032188</td>\n",
       "    </tr>\n",
       "  </tbody>\n",
       "</table>\n",
       "<p>363 rows × 1 columns</p>\n",
       "</div>"
      ],
      "text/plain": [
       "            Total\n",
       "period           \n",
       "1990-01   6271648\n",
       "1990-02   5608228\n",
       "1990-03   7261485\n",
       "1990-04   6666438\n",
       "1990-05   6684581\n",
       "...           ...\n",
       "2019-11  17793847\n",
       "2019-12  19887403\n",
       "2020-01  19044076\n",
       "2020-02  15875722\n",
       "2020-03   9032188\n",
       "\n",
       "[363 rows x 1 columns]"
      ]
     },
     "execution_count": 12,
     "metadata": {},
     "output_type": "execute_result"
    }
   ],
   "source": [
    "pd.DataFrame(time_series)"
   ]
  },
  {
   "cell_type": "code",
   "execution_count": 13,
   "id": "1eb84651",
   "metadata": {},
   "outputs": [
    {
     "data": {
      "image/png": "[encoded data removed]",
      "text/plain": [
       "<Figure size 640x480 with 4 Axes>"
      ]
     },
     "metadata": {},
     "output_type": "display_data"
    }
   ],
   "source": [
    "# Time series descomposition\n",
    "result = seasonal_decompose(time_series.values, model='multiplicative', period=30)\n",
    "result.plot()\n",
    "pyplot.show()"
   ]
  },
  {
   "cell_type": "markdown",
   "id": "dc3e9e6b",
   "metadata": {},
   "source": [
    "* We can see that in the first bar plot the passengers increase through the years, and in the second graph It can see the time series behavior, and how is its seasonality "
   ]
  },
  {
   "cell_type": "markdown",
   "id": "f0f8623f",
   "metadata": {},
   "source": [
    "* In descomposition we can see the trend is increating"
   ]
  },
  {
   "cell_type": "markdown",
   "id": "8879e04e",
   "metadata": {},
   "source": [
    "* A forecasting could be created to know how many passengers could be in all 2020"
   ]
  },
  {
   "cell_type": "markdown",
   "id": "072662a0",
   "metadata": {},
   "source": [
    "# Airlines analysis"
   ]
  },
  {
   "cell_type": "code",
   "execution_count": 14,
   "id": "8876bb8b",
   "metadata": {},
   "outputs": [
    {
     "name": "stdout",
     "output_type": "stream",
     "text": [
      "There are 570 different airlines\n"
     ]
    }
   ],
   "source": [
    "n_airlines = data.airlineid.drop_duplicates().count()\n",
    "print(f'There are {n_airlines} different airlines')"
   ]
  },
  {
   "cell_type": "code",
   "execution_count": 15,
   "id": "dcfc5c77",
   "metadata": {},
   "outputs": [
    {
     "data": {
      "text/plain": [
       "data_dte           0\n",
       "Year               0\n",
       "Month              0\n",
       "usg_apt_id         0\n",
       "usg_apt            0\n",
       "usg_wac            0\n",
       "fg_apt_id          0\n",
       "fg_apt             0\n",
       "fg_wac             0\n",
       "airlineid          0\n",
       "carrier         2797\n",
       "carriergroup       0\n",
       "type               0\n",
       "Scheduled          0\n",
       "Charter            0\n",
       "Total              0\n",
       "period             0\n",
       "dtype: int64"
      ]
     },
     "execution_count": 15,
     "metadata": {},
     "output_type": "execute_result"
    }
   ],
   "source": [
    "data.isna().sum()"
   ]
  },
  {
   "cell_type": "code",
   "execution_count": 16,
   "id": "cd840120",
   "metadata": {},
   "outputs": [
    {
     "name": "stdout",
     "output_type": "stream",
     "text": [
      "There are 0 null values in date_dte\n",
      "There are 0 null values in Total\n"
     ]
    }
   ],
   "source": [
    "#Checking if there are any null in date values in columns of interest\n",
    "print(f'There are {data.data_dte.isna().sum()} null values in date_dte\\nThere are {data.Total.isna().sum()} null values in Total')"
   ]
  },
  {
   "cell_type": "markdown",
   "id": "ea1d4a7e",
   "metadata": {},
   "source": [
    "## How many flight per airlines"
   ]
  },
  {
   "cell_type": "code",
   "execution_count": 17,
   "id": "e9ada938",
   "metadata": {},
   "outputs": [],
   "source": [
    "data_airlines = data.groupby('airlineid').Total.sum().sort_values(ascending=False).to_frame()"
   ]
  },
  {
   "cell_type": "code",
   "execution_count": 18,
   "id": "45ee552b",
   "metadata": {},
   "outputs": [
    {
     "data": {
      "text/html": [
       "<div>\n",
       "<style scoped>\n",
       "    .dataframe tbody tr th:only-of-type {\n",
       "        vertical-align: middle;\n",
       "    }\n",
       "\n",
       "    .dataframe tbody tr th {\n",
       "        vertical-align: top;\n",
       "    }\n",
       "\n",
       "    .dataframe thead th {\n",
       "        text-align: right;\n",
       "    }\n",
       "</style>\n",
       "<table border=\"1\" class=\"dataframe\">\n",
       "  <thead>\n",
       "    <tr style=\"text-align: right;\">\n",
       "      <th></th>\n",
       "      <th>Total</th>\n",
       "      <th>perc</th>\n",
       "      <th>perc_cum</th>\n",
       "    </tr>\n",
       "    <tr>\n",
       "      <th>airlineid</th>\n",
       "      <th></th>\n",
       "      <th></th>\n",
       "      <th></th>\n",
       "    </tr>\n",
       "  </thead>\n",
       "  <tbody>\n",
       "    <tr>\n",
       "      <th>19805</th>\n",
       "      <td>589094099</td>\n",
       "      <td>1.295850e+01</td>\n",
       "      <td>12.958496</td>\n",
       "    </tr>\n",
       "    <tr>\n",
       "      <th>19977</th>\n",
       "      <td>417372862</td>\n",
       "      <td>9.181088e+00</td>\n",
       "      <td>22.139584</td>\n",
       "    </tr>\n",
       "    <tr>\n",
       "      <th>19790</th>\n",
       "      <td>384190962</td>\n",
       "      <td>8.451175e+00</td>\n",
       "      <td>30.590758</td>\n",
       "    </tr>\n",
       "    <tr>\n",
       "      <th>19704</th>\n",
       "      <td>173862884</td>\n",
       "      <td>3.824519e+00</td>\n",
       "      <td>34.415277</td>\n",
       "    </tr>\n",
       "    <tr>\n",
       "      <th>19540</th>\n",
       "      <td>172993518</td>\n",
       "      <td>3.805395e+00</td>\n",
       "      <td>38.220673</td>\n",
       "    </tr>\n",
       "    <tr>\n",
       "      <th>...</th>\n",
       "      <td>...</td>\n",
       "      <td>...</td>\n",
       "      <td>...</td>\n",
       "    </tr>\n",
       "    <tr>\n",
       "      <th>20349</th>\n",
       "      <td>4</td>\n",
       "      <td>8.798931e-08</td>\n",
       "      <td>100.000000</td>\n",
       "    </tr>\n",
       "    <tr>\n",
       "      <th>20226</th>\n",
       "      <td>3</td>\n",
       "      <td>6.599198e-08</td>\n",
       "      <td>100.000000</td>\n",
       "    </tr>\n",
       "    <tr>\n",
       "      <th>20342</th>\n",
       "      <td>2</td>\n",
       "      <td>4.399466e-08</td>\n",
       "      <td>100.000000</td>\n",
       "    </tr>\n",
       "    <tr>\n",
       "      <th>20346</th>\n",
       "      <td>2</td>\n",
       "      <td>4.399466e-08</td>\n",
       "      <td>100.000000</td>\n",
       "    </tr>\n",
       "    <tr>\n",
       "      <th>20319</th>\n",
       "      <td>1</td>\n",
       "      <td>2.199733e-08</td>\n",
       "      <td>100.000000</td>\n",
       "    </tr>\n",
       "  </tbody>\n",
       "</table>\n",
       "<p>570 rows × 3 columns</p>\n",
       "</div>"
      ],
      "text/plain": [
       "               Total          perc    perc_cum\n",
       "airlineid                                     \n",
       "19805      589094099  1.295850e+01   12.958496\n",
       "19977      417372862  9.181088e+00   22.139584\n",
       "19790      384190962  8.451175e+00   30.590758\n",
       "19704      173862884  3.824519e+00   34.415277\n",
       "19540      172993518  3.805395e+00   38.220673\n",
       "...              ...           ...         ...\n",
       "20349              4  8.798931e-08  100.000000\n",
       "20226              3  6.599198e-08  100.000000\n",
       "20342              2  4.399466e-08  100.000000\n",
       "20346              2  4.399466e-08  100.000000\n",
       "20319              1  2.199733e-08  100.000000\n",
       "\n",
       "[570 rows x 3 columns]"
      ]
     },
     "execution_count": 18,
     "metadata": {},
     "output_type": "execute_result"
    }
   ],
   "source": [
    "data_airlines['perc'] = data_airlines['Total']/sum(data_airlines['Total'])*100\n",
    "data_airlines['perc_cum'] = data_airlines['perc'].cumsum()\n",
    "data_airlines"
   ]
  },
  {
   "cell_type": "markdown",
   "id": "52fecabe",
   "metadata": {},
   "source": [
    "## Pareto analysis"
   ]
  },
  {
   "cell_type": "code",
   "execution_count": 19,
   "id": "9cbc34a7",
   "metadata": {},
   "outputs": [
    {
     "data": {
      "text/html": [
       "<div>\n",
       "<style scoped>\n",
       "    .dataframe tbody tr th:only-of-type {\n",
       "        vertical-align: middle;\n",
       "    }\n",
       "\n",
       "    .dataframe tbody tr th {\n",
       "        vertical-align: top;\n",
       "    }\n",
       "\n",
       "    .dataframe thead th {\n",
       "        text-align: right;\n",
       "    }\n",
       "</style>\n",
       "<table border=\"1\" class=\"dataframe\">\n",
       "  <thead>\n",
       "    <tr style=\"text-align: right;\">\n",
       "      <th></th>\n",
       "      <th>Total</th>\n",
       "      <th>perc</th>\n",
       "      <th>perc_cum</th>\n",
       "    </tr>\n",
       "    <tr>\n",
       "      <th>airlineid</th>\n",
       "      <th></th>\n",
       "      <th></th>\n",
       "      <th></th>\n",
       "    </tr>\n",
       "  </thead>\n",
       "  <tbody>\n",
       "    <tr>\n",
       "      <th>19805</th>\n",
       "      <td>589094099</td>\n",
       "      <td>12.958496</td>\n",
       "      <td>12.958496</td>\n",
       "    </tr>\n",
       "    <tr>\n",
       "      <th>19977</th>\n",
       "      <td>417372862</td>\n",
       "      <td>9.181088</td>\n",
       "      <td>22.139584</td>\n",
       "    </tr>\n",
       "    <tr>\n",
       "      <th>19790</th>\n",
       "      <td>384190962</td>\n",
       "      <td>8.451175</td>\n",
       "      <td>30.590758</td>\n",
       "    </tr>\n",
       "    <tr>\n",
       "      <th>19704</th>\n",
       "      <td>173862884</td>\n",
       "      <td>3.824519</td>\n",
       "      <td>34.415277</td>\n",
       "    </tr>\n",
       "    <tr>\n",
       "      <th>19540</th>\n",
       "      <td>172993518</td>\n",
       "      <td>3.805395</td>\n",
       "      <td>38.220673</td>\n",
       "    </tr>\n",
       "    <tr>\n",
       "      <th>19386</th>\n",
       "      <td>142563529</td>\n",
       "      <td>3.136017</td>\n",
       "      <td>41.356689</td>\n",
       "    </tr>\n",
       "    <tr>\n",
       "      <th>19531</th>\n",
       "      <td>142517235</td>\n",
       "      <td>3.134998</td>\n",
       "      <td>44.491688</td>\n",
       "    </tr>\n",
       "    <tr>\n",
       "      <th>19554</th>\n",
       "      <td>121852568</td>\n",
       "      <td>2.680431</td>\n",
       "      <td>47.172118</td>\n",
       "    </tr>\n",
       "    <tr>\n",
       "      <th>20355</th>\n",
       "      <td>103393413</td>\n",
       "      <td>2.274379</td>\n",
       "      <td>49.446497</td>\n",
       "    </tr>\n",
       "    <tr>\n",
       "      <th>19532</th>\n",
       "      <td>85923469</td>\n",
       "      <td>1.890087</td>\n",
       "      <td>51.336584</td>\n",
       "    </tr>\n",
       "    <tr>\n",
       "      <th>19682</th>\n",
       "      <td>84082229</td>\n",
       "      <td>1.849584</td>\n",
       "      <td>53.186168</td>\n",
       "    </tr>\n",
       "    <tr>\n",
       "      <th>19548</th>\n",
       "      <td>77554178</td>\n",
       "      <td>1.705985</td>\n",
       "      <td>54.892153</td>\n",
       "    </tr>\n",
       "    <tr>\n",
       "      <th>20409</th>\n",
       "      <td>65927378</td>\n",
       "      <td>1.450226</td>\n",
       "      <td>56.342379</td>\n",
       "    </tr>\n",
       "    <tr>\n",
       "      <th>19550</th>\n",
       "      <td>62406438</td>\n",
       "      <td>1.372775</td>\n",
       "      <td>57.715154</td>\n",
       "    </tr>\n",
       "    <tr>\n",
       "      <th>19534</th>\n",
       "      <td>57287399</td>\n",
       "      <td>1.260170</td>\n",
       "      <td>58.975324</td>\n",
       "    </tr>\n",
       "    <tr>\n",
       "      <th>19559</th>\n",
       "      <td>54717475</td>\n",
       "      <td>1.203638</td>\n",
       "      <td>60.178962</td>\n",
       "    </tr>\n",
       "    <tr>\n",
       "      <th>20229</th>\n",
       "      <td>50217471</td>\n",
       "      <td>1.104650</td>\n",
       "      <td>61.283612</td>\n",
       "    </tr>\n",
       "    <tr>\n",
       "      <th>19551</th>\n",
       "      <td>49592658</td>\n",
       "      <td>1.090906</td>\n",
       "      <td>62.374518</td>\n",
       "    </tr>\n",
       "    <tr>\n",
       "      <th>19930</th>\n",
       "      <td>45826772</td>\n",
       "      <td>1.008067</td>\n",
       "      <td>63.382585</td>\n",
       "    </tr>\n",
       "    <tr>\n",
       "      <th>19779</th>\n",
       "      <td>35035894</td>\n",
       "      <td>0.770696</td>\n",
       "      <td>64.153281</td>\n",
       "    </tr>\n",
       "    <tr>\n",
       "      <th>19623</th>\n",
       "      <td>32368655</td>\n",
       "      <td>0.712024</td>\n",
       "      <td>64.865305</td>\n",
       "    </tr>\n",
       "    <tr>\n",
       "      <th>19566</th>\n",
       "      <td>31095867</td>\n",
       "      <td>0.684026</td>\n",
       "      <td>65.549331</td>\n",
       "    </tr>\n",
       "    <tr>\n",
       "      <th>19791</th>\n",
       "      <td>30781981</td>\n",
       "      <td>0.677121</td>\n",
       "      <td>66.226452</td>\n",
       "    </tr>\n",
       "    <tr>\n",
       "      <th>19574</th>\n",
       "      <td>29491392</td>\n",
       "      <td>0.648732</td>\n",
       "      <td>66.875184</td>\n",
       "    </tr>\n",
       "    <tr>\n",
       "      <th>20206</th>\n",
       "      <td>29403940</td>\n",
       "      <td>0.646808</td>\n",
       "      <td>67.521992</td>\n",
       "    </tr>\n",
       "    <tr>\n",
       "      <th>19539</th>\n",
       "      <td>28723291</td>\n",
       "      <td>0.631836</td>\n",
       "      <td>68.153828</td>\n",
       "    </tr>\n",
       "    <tr>\n",
       "      <th>19547</th>\n",
       "      <td>28672141</td>\n",
       "      <td>0.630710</td>\n",
       "      <td>68.784538</td>\n",
       "    </tr>\n",
       "    <tr>\n",
       "      <th>20277</th>\n",
       "      <td>28511290</td>\n",
       "      <td>0.627172</td>\n",
       "      <td>69.411710</td>\n",
       "    </tr>\n",
       "    <tr>\n",
       "      <th>20005</th>\n",
       "      <td>28338744</td>\n",
       "      <td>0.623377</td>\n",
       "      <td>70.035087</td>\n",
       "    </tr>\n",
       "    <tr>\n",
       "      <th>19544</th>\n",
       "      <td>28131688</td>\n",
       "      <td>0.618822</td>\n",
       "      <td>70.653909</td>\n",
       "    </tr>\n",
       "    <tr>\n",
       "      <th>20392</th>\n",
       "      <td>28068361</td>\n",
       "      <td>0.617429</td>\n",
       "      <td>71.271338</td>\n",
       "    </tr>\n",
       "    <tr>\n",
       "      <th>19572</th>\n",
       "      <td>27725187</td>\n",
       "      <td>0.609880</td>\n",
       "      <td>71.881218</td>\n",
       "    </tr>\n",
       "    <tr>\n",
       "      <th>19933</th>\n",
       "      <td>27667319</td>\n",
       "      <td>0.608607</td>\n",
       "      <td>72.489825</td>\n",
       "    </tr>\n",
       "    <tr>\n",
       "      <th>20414</th>\n",
       "      <td>25884080</td>\n",
       "      <td>0.569381</td>\n",
       "      <td>73.059206</td>\n",
       "    </tr>\n",
       "    <tr>\n",
       "      <th>19770</th>\n",
       "      <td>25781292</td>\n",
       "      <td>0.567120</td>\n",
       "      <td>73.626325</td>\n",
       "    </tr>\n",
       "    <tr>\n",
       "      <th>20017</th>\n",
       "      <td>25258589</td>\n",
       "      <td>0.555621</td>\n",
       "      <td>74.181947</td>\n",
       "    </tr>\n",
       "    <tr>\n",
       "      <th>19571</th>\n",
       "      <td>25119408</td>\n",
       "      <td>0.552560</td>\n",
       "      <td>74.734506</td>\n",
       "    </tr>\n",
       "    <tr>\n",
       "      <th>19821</th>\n",
       "      <td>24799451</td>\n",
       "      <td>0.545522</td>\n",
       "      <td>75.280028</td>\n",
       "    </tr>\n",
       "    <tr>\n",
       "      <th>19549</th>\n",
       "      <td>24351597</td>\n",
       "      <td>0.535670</td>\n",
       "      <td>75.815698</td>\n",
       "    </tr>\n",
       "    <tr>\n",
       "      <th>19537</th>\n",
       "      <td>23626673</td>\n",
       "      <td>0.519724</td>\n",
       "      <td>76.335422</td>\n",
       "    </tr>\n",
       "    <tr>\n",
       "      <th>20416</th>\n",
       "      <td>23054284</td>\n",
       "      <td>0.507133</td>\n",
       "      <td>76.842555</td>\n",
       "    </tr>\n",
       "    <tr>\n",
       "      <th>20304</th>\n",
       "      <td>22614559</td>\n",
       "      <td>0.497460</td>\n",
       "      <td>77.340014</td>\n",
       "    </tr>\n",
       "    <tr>\n",
       "      <th>20211</th>\n",
       "      <td>22056362</td>\n",
       "      <td>0.485181</td>\n",
       "      <td>77.825195</td>\n",
       "    </tr>\n",
       "    <tr>\n",
       "      <th>20398</th>\n",
       "      <td>21574946</td>\n",
       "      <td>0.474591</td>\n",
       "      <td>78.299787</td>\n",
       "    </tr>\n",
       "    <tr>\n",
       "      <th>21351</th>\n",
       "      <td>21413390</td>\n",
       "      <td>0.471037</td>\n",
       "      <td>78.770824</td>\n",
       "    </tr>\n",
       "    <tr>\n",
       "      <th>20233</th>\n",
       "      <td>20540994</td>\n",
       "      <td>0.451847</td>\n",
       "      <td>79.222671</td>\n",
       "    </tr>\n",
       "    <tr>\n",
       "      <th>21610</th>\n",
       "      <td>20198378</td>\n",
       "      <td>0.444310</td>\n",
       "      <td>79.666981</td>\n",
       "    </tr>\n",
       "  </tbody>\n",
       "</table>\n",
       "</div>"
      ],
      "text/plain": [
       "               Total       perc   perc_cum\n",
       "airlineid                                 \n",
       "19805      589094099  12.958496  12.958496\n",
       "19977      417372862   9.181088  22.139584\n",
       "19790      384190962   8.451175  30.590758\n",
       "19704      173862884   3.824519  34.415277\n",
       "19540      172993518   3.805395  38.220673\n",
       "19386      142563529   3.136017  41.356689\n",
       "19531      142517235   3.134998  44.491688\n",
       "19554      121852568   2.680431  47.172118\n",
       "20355      103393413   2.274379  49.446497\n",
       "19532       85923469   1.890087  51.336584\n",
       "19682       84082229   1.849584  53.186168\n",
       "19548       77554178   1.705985  54.892153\n",
       "20409       65927378   1.450226  56.342379\n",
       "19550       62406438   1.372775  57.715154\n",
       "19534       57287399   1.260170  58.975324\n",
       "19559       54717475   1.203638  60.178962\n",
       "20229       50217471   1.104650  61.283612\n",
       "19551       49592658   1.090906  62.374518\n",
       "19930       45826772   1.008067  63.382585\n",
       "19779       35035894   0.770696  64.153281\n",
       "19623       32368655   0.712024  64.865305\n",
       "19566       31095867   0.684026  65.549331\n",
       "19791       30781981   0.677121  66.226452\n",
       "19574       29491392   0.648732  66.875184\n",
       "20206       29403940   0.646808  67.521992\n",
       "19539       28723291   0.631836  68.153828\n",
       "19547       28672141   0.630710  68.784538\n",
       "20277       28511290   0.627172  69.411710\n",
       "20005       28338744   0.623377  70.035087\n",
       "19544       28131688   0.618822  70.653909\n",
       "20392       28068361   0.617429  71.271338\n",
       "19572       27725187   0.609880  71.881218\n",
       "19933       27667319   0.608607  72.489825\n",
       "20414       25884080   0.569381  73.059206\n",
       "19770       25781292   0.567120  73.626325\n",
       "20017       25258589   0.555621  74.181947\n",
       "19571       25119408   0.552560  74.734506\n",
       "19821       24799451   0.545522  75.280028\n",
       "19549       24351597   0.535670  75.815698\n",
       "19537       23626673   0.519724  76.335422\n",
       "20416       23054284   0.507133  76.842555\n",
       "20304       22614559   0.497460  77.340014\n",
       "20211       22056362   0.485181  77.825195\n",
       "20398       21574946   0.474591  78.299787\n",
       "21351       21413390   0.471037  78.770824\n",
       "20233       20540994   0.451847  79.222671\n",
       "21610       20198378   0.444310  79.666981"
      ]
     },
     "execution_count": 19,
     "metadata": {},
     "output_type": "execute_result"
    }
   ],
   "source": [
    "# Printed airlines that represent 80 percents of flight from 1990\n",
    "main_airlines = data_airlines.loc[lambda x:x.perc_cum<=80]\n",
    "main_airlines"
   ]
  },
  {
   "cell_type": "code",
   "execution_count": 20,
   "id": "bcb4b2de",
   "metadata": {},
   "outputs": [
    {
     "name": "stdout",
     "output_type": "stream",
     "text": [
      "There are 47 airlines that represent 80 percents of flights\n",
      "These airlines represent 8.25% of all airlines\n"
     ]
    }
   ],
   "source": [
    "print(f'There are {len(main_airlines)} airlines that represent 80 percents of flights\\nThese airlines represent {round(len(main_airlines)/data.airlineid.nunique()*100,2)}% of all airlines')"
   ]
  },
  {
   "cell_type": "markdown",
   "id": "3b84d923",
   "metadata": {},
   "source": [
    "# Model training"
   ]
  },
  {
   "cell_type": "markdown",
   "id": "967c1f2c",
   "metadata": {},
   "source": [
    "## Splitting data into tran and test"
   ]
  },
  {
   "cell_type": "code",
   "execution_count": 21,
   "id": "3aa41864",
   "metadata": {},
   "outputs": [],
   "source": [
    "train = time_series[48:-15]\n",
    "test = time_series[-15:-3]"
   ]
  },
  {
   "cell_type": "code",
   "execution_count": 22,
   "id": "87a5125b",
   "metadata": {},
   "outputs": [],
   "source": [
    "# Testing an auto_arima model\n",
    "arima_m = auto_arima(train,\n",
    "                     start_p=0, \n",
    "                     d=1,\n",
    "                     start_q=0, \n",
    "                     max_p=5, \n",
    "                     max_d=5,\n",
    "                     max_q=5,\n",
    "                     start_P=0,\n",
    "                     start_Q=0,\n",
    "                     D=1,\n",
    "                     max_D=5,\n",
    "                     max_P=5,\n",
    "                     max_Q=5,\n",
    "                     seasonal=True,\n",
    "                     m=12,\n",
    "                     random_state=5)"
   ]
  },
  {
   "cell_type": "code",
   "execution_count": 23,
   "id": "99531566",
   "metadata": {},
   "outputs": [
    {
     "data": {
      "text/plain": [
       "{'maxiter': 50,\n",
       " 'method': 'lbfgs',\n",
       " 'order': (1, 1, 1),\n",
       " 'out_of_sample_size': 0,\n",
       " 'scoring': 'mse',\n",
       " 'scoring_args': {},\n",
       " 'seasonal_order': (0, 1, 2, 12),\n",
       " 'start_params': None,\n",
       " 'suppress_warnings': True,\n",
       " 'trend': None,\n",
       " 'with_intercept': False}"
      ]
     },
     "execution_count": 23,
     "metadata": {},
     "output_type": "execute_result"
    }
   ],
   "source": [
    "#Paramenters to use in model\n",
    "arima_m.get_params()"
   ]
  },
  {
   "cell_type": "code",
   "execution_count": 24,
   "id": "eab7d9ee",
   "metadata": {},
   "outputs": [
    {
     "data": {
      "text/plain": [
       "period\n",
       "2019-01    1.936100e+07\n",
       "2019-02    1.710838e+07\n",
       "2019-03    2.080045e+07\n",
       "2019-04    2.038034e+07\n",
       "2019-05    2.134716e+07\n",
       "2019-06    2.313751e+07\n",
       "2019-07    2.495887e+07\n",
       "2019-08    2.416282e+07\n",
       "2019-09    2.005675e+07\n",
       "2019-10    2.012260e+07\n",
       "2019-11    1.890862e+07\n",
       "2019-12    2.082218e+07\n",
       "Freq: M, dtype: float64"
      ]
     },
     "execution_count": 24,
     "metadata": {},
     "output_type": "execute_result"
    }
   ],
   "source": [
    "#Getting predictions\n",
    "prediction = arima_m.predict(12)\n",
    "prediction.index=test.index\n",
    "prediction"
   ]
  },
  {
   "cell_type": "code",
   "execution_count": 25,
   "id": "745feafe",
   "metadata": {},
   "outputs": [],
   "source": [
    "# Cheking result in a visual way"
   ]
  },
  {
   "cell_type": "code",
   "execution_count": 26,
   "id": "2793b981",
   "metadata": {},
   "outputs": [],
   "source": [
    "train.index = train.index.astype(str)\n",
    "test.index = test.index.astype(str)\n",
    "prediction.index = prediction.index.astype(str)"
   ]
  },
  {
   "cell_type": "code",
   "execution_count": 27,
   "id": "6d41d894",
   "metadata": {},
   "outputs": [
    {
     "data": {
      "text/plain": [
       "<matplotlib.legend.Legend at 0x7fa2a1d1f6d0>"
      ]
     },
     "execution_count": 27,
     "metadata": {},
     "output_type": "execute_result"
    },
    {
     "data": {
      "image/png": "[encoded data removed]",
      "text/plain": [
       "<Figure size 2000x1000 with 1 Axes>"
      ]
     },
     "metadata": {},
     "output_type": "display_data"
    }
   ],
   "source": [
    "plt.figure(figsize=(20,10))\n",
    "plt.plot(train[-24:], label='train')\n",
    "plt.plot(test, label='test')\n",
    "plt.plot(prediction, label='prediction')\n",
    "plt.legend(loc=\"upper left\")"
   ]
  },
  {
   "cell_type": "markdown",
   "id": "7b364970",
   "metadata": {},
   "source": [
    "# Metrics"
   ]
  },
  {
   "cell_type": "code",
   "execution_count": 28,
   "id": "5982eee0",
   "metadata": {},
   "outputs": [
    {
     "name": "stdout",
     "output_type": "stream",
     "text": [
      "R2 score for Arima model is: 0.9\n"
     ]
    }
   ],
   "source": [
    "print(f'R2 score for Arima model is: {round(r2_score(test, prediction),2)}')"
   ]
  },
  {
   "cell_type": "markdown",
   "id": "561c1d6a",
   "metadata": {},
   "source": [
    "**The r2 score shows a really good performance as a basline, but still we can try an exponential smoothing model to choose the best performance**"
   ]
  }
 ],
 "metadata": {
  "kernelspec": {
   "display_name": "Python 3 (ipykernel)",
   "language": "python",
   "name": "python3"
  },
  "language_info": {
   "codemirror_mode": {
    "name": "ipython",
    "version": 3
   },
   "file_extension": ".py",
   "mimetype": "text/x-python",
   "name": "python",
   "nbconvert_exporter": "python",
   "pygments_lexer": "ipython3",
   "version": "3.10.4"
  }
 },
 "nbformat": 4,
 "nbformat_minor": 5
}
